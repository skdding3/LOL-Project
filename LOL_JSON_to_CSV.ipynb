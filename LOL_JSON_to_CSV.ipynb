{
  "nbformat": 4,
  "nbformat_minor": 0,
  "metadata": {
    "colab": {
      "name": "OPGG_JSON_to_CSV.ipynb",
      "provenance": [],
      "collapsed_sections": [],
      "include_colab_link": true
    },
    "kernelspec": {
      "name": "python3",
      "display_name": "Python 3"
    },
    "language_info": {
      "name": "python"
    }
  },
  "cells": [
    {
      "cell_type": "markdown",
      "metadata": {
        "id": "view-in-github",
        "colab_type": "text"
      },
      "source": [
        "<a href=\"https://colab.research.google.com/github/skdding3/LOL-Project/blob/main/LOL_JSON_to_CSV.ipynb\" target=\"_parent\"><img src=\"https://colab.research.google.com/assets/colab-badge.svg\" alt=\"Open In Colab\"/></a>"
      ]
    },
    {
      "cell_type": "markdown",
      "metadata": {
        "id": "mmfEBD72M2ve"
      },
      "source": [
        "## JSON 데이터 CSV 파싱 작업"
      ]
    },
    {
      "cell_type": "markdown",
      "metadata": {
        "id": "i4HSIJwrr8g8"
      },
      "source": [
        "## **0. 사전 작업**"
      ]
    },
    {
      "cell_type": "code",
      "metadata": {
        "id": "dWp_XRetHMWh",
        "colab": {
          "base_uri": "https://localhost:8080/"
        },
        "outputId": "af95fe2b-613a-48a5-9c15-b9f409d0b9bd"
      },
      "source": [
        "# drive.mount\n",
        "from google.colab import drive\n",
        "drive.mount('/content/drive/')"
      ],
      "execution_count": null,
      "outputs": [
        {
          "output_type": "stream",
          "text": [
            "Mounted at /content/drive/\n"
          ],
          "name": "stdout"
        }
      ]
    },
    {
      "cell_type": "code",
      "metadata": {
        "id": "0Bl6f7WYOpED"
      },
      "source": [
        "# 패키지 설치\n",
        "import pandas as pd\n",
        "import json\n",
        "import ast\n",
        "from pandas.io.json import json_normalize\n",
        "\n",
        "# google drive에 있는 파일 경로\n",
        "file_path = \"/content/drive/MyDrive/Colab Notebooks/\"\n",
        "\n",
        "# 파일명\n",
        "file_name = \"lol_kr_v1018_soloRank.json\""
      ],
      "execution_count": null,
      "outputs": []
    },
    {
      "cell_type": "markdown",
      "metadata": {
        "id": "8uwqNr2TsDUu"
      },
      "source": [
        "## **1. 원본 데이터 불러오기**"
      ]
    },
    {
      "cell_type": "code",
      "metadata": {
        "id": "deSF_lJ3cgmX"
      },
      "source": [
        "# 빈 리스트 생성 -> 필요한 데이터를 받는 역할\n",
        "data_1 = []\n",
        "data_2 = []\n",
        "data_3 = []\n",
        "data_4 = []\n",
        "\n",
        "with open(file_path + file_name, \"r\") as f:\n",
        "    reader = pd.read_json(f,\n",
        "                          lines=True, # 하나의 딕셔너리를 하나의 라인으로 인식하여 불러오는 파라미터\n",
        "                          chunksize=1000 # json 데이터를 chunk 객체로 가져오는 파라미터 (데이터를 하나하나 가져오기엔 너무 무거우니까 러프하게 묶음으로 가져오는 역할)\n",
        "                          )\n",
        "    for chunk in reader:\n",
        "        # 묶음으로 가져온 chunk 객체에서 필요 없는 column을 drop하는 부분 (이렇게 하면 chunk가 가벼워지니까 데이터를 가져올 수 있다!)\n",
        "        reduced_chunk_1 = chunk.drop(columns=['participantidentities', 'gameversion', 'platformid', 'gamemode', 'mapid', 'gametype', 'teams', 'participants', 'gameduration', 'gamecreation', 'participantextendedstats'])\n",
        "        reduced_chunk_2 = chunk.drop(columns=['seasonid', 'queueid', 'gameid', 'participantidentities', 'mapid', 'gametype', 'teams', 'participants', 'gameduration', 'gamecreation', 'participantextendedstats'])\n",
        "        reduced_chunk_3 = chunk.drop(columns=['seasonid', 'queueid', 'gameid', 'participantidentities', 'gameversion', 'platformid', 'gamemode', 'teams', 'participants', 'gameduration', 'gamecreation', 'participantextendedstats'])\n",
        "        reduced_chunk_4 = chunk.drop(columns=['seasonid', 'queueid', 'gameid', 'participantidentities', 'gameversion', 'platformid', 'gamemode', 'mapid', 'gametype', 'teams', 'participants', 'participantextendedstats'])\n",
        "        # 가벼워진 데이터를 빈 리스트에 저장\n",
        "        data_1.append(reduced_chunk_1)\n",
        "        data_2.append(reduced_chunk_2)\n",
        "        data_3.append(reduced_chunk_3)\n",
        "        data_4.append(reduced_chunk_4)\n",
        "\n",
        "# 리스트로 받은 데이터를 데이터 프레임으로 변환\n",
        "data_1 = pd.concat(data_1, ignore_index=True)\n",
        "data_2 = pd.concat(data_2, ignore_index=True)\n",
        "data_3 = pd.concat(data_3, ignore_index=True)\n",
        "data_4 = pd.concat(data_4, ignore_index=True)"
      ],
      "execution_count": null,
      "outputs": []
    },
    {
      "cell_type": "code",
      "metadata": {
        "id": "uAd3DTfDu7GJ"
      },
      "source": [
        "# 데이터 총 개수 : 169831\n",
        "\n",
        "# seasonid     / 경기 시즌                 / 13값 만 있음              / 삭제\n",
        "# queueid      / 게임 형태                 / 420값 만 있음             / 삭제 \n",
        "# gameid       / 각 매치의 ID 값           / 거의 고유 값               / 살림\n",
        "# gameversion  / 패치 정보                 / 10.18.333.8889값 만 있음  / 삭제\n",
        "# platformid   / 국가 정보                 / KR값 만 있음              / 삭제\n",
        "# gamemode     / 게임 모드                 / gamemode값 만 있음        / 삭제\n",
        "# mapid        / 경기 맵                  / 11값 만 있음              / 삭제\n",
        "# gametype     / 게임 타입                 / MATCHED_GAME값 만 있음    / 삭제\n",
        "# gameduration / 경기 진행 시간(초)          / 2500개 Value 있음        / 살림\n",
        "# gamecreation / 캐릭터 선택이 끝난 시점의 시각 / 거의 고유 값               / 삭제\n",
        "\n",
        "# 이슈 : gameid - 4626085422, 4635510522, 4619222704 가 2개로 겹침. 의미상 말이 안되는데 이에 대한 확인 필요"
      ],
      "execution_count": null,
      "outputs": []
    },
    {
      "cell_type": "markdown",
      "metadata": {
        "id": "0TqGI1u8sIzo"
      },
      "source": [
        "## **2. 필요한 칼럼 추출 및 저장**\n",
        "\n",
        "1. participants는 용량이 너무 커서 별도로 저장\n",
        "2. 나머지는 하나로 몰아서 저장"
      ]
    },
    {
      "cell_type": "code",
      "metadata": {
        "id": "3PLWHuNUtyHF"
      },
      "source": [
        "# 살린거 : 'gameid', 'participantidentities', 'teams', 'participants', 'gameduration', 'participantextendedstats'\n",
        "# 필수삭제 : 'seasonid', 'queueid', 'gameversion', 'platformid', 'gamemode', 'mapid', 'gametype', 'gamecreation'\n",
        "data = []\n",
        "\n",
        "with open(file_path + file_name, \"r\") as f:\n",
        "    reader = pd.read_json(f,\n",
        "                          lines=True,\n",
        "                          chunksize=1000,\n",
        "                          nrows=169831\n",
        "                          )\n",
        "    for chunk in reader:\n",
        "        reduced_chunk = chunk.drop(columns=['participants', 'seasonid', 'queueid', 'gameversion', 'platformid', 'gamemode', 'mapid', 'gametype', 'gamecreation'])\n",
        "        data.append(reduced_chunk)\n",
        "\n",
        "data = pd.concat(data, ignore_index=True)\n",
        "\n",
        "# 결과 확인\n",
        "data.head()"
      ],
      "execution_count": null,
      "outputs": []
    },
    {
      "cell_type": "code",
      "metadata": {
        "id": "gY5kHKnB42x-"
      },
      "source": [
        "# 데이터 내보내기\n",
        "data.to_csv(\"/content/drive/MyDrive/Colab Notebooks/data.csv\", header=True, index=False)"
      ],
      "execution_count": null,
      "outputs": []
    },
    {
      "cell_type": "markdown",
      "metadata": {
        "id": "aQHOlYqYsvIY"
      },
      "source": [
        "## **3. Nest Dictionary를 DataFrame으로 변환 - participantidentities**"
      ]
    },
    {
      "cell_type": "code",
      "metadata": {
        "id": "LzcdQEfK5Ozu"
      },
      "source": [
        "# 종합 데이터 불러오기\n",
        "data_url = \"/content/drive/MyDrive/Colab Notebooks/data.csv\"\n",
        "data_raw = pd.read_csv(data_url)\n",
        "data_raw.head()"
      ],
      "execution_count": null,
      "outputs": []
    },
    {
      "cell_type": "code",
      "metadata": {
        "colab": {
          "base_uri": "https://localhost:8080/"
        },
        "id": "hZ4yHchvMlOL",
        "outputId": "e2295343-7dbe-47d2-d77e-ed3b65157469"
      },
      "source": [
        "# participantidentities column 변환하기\n",
        "\n",
        "# 중괄호 제거\n",
        "for i in range(0, len(data_raw)) :\n",
        "    data_raw['participantidentities'][i] = data_raw['participantidentities'][i].replace('[','').replace(']','')\n",
        "\n",
        "# 빈 리스트 생성\n",
        "part_list = []\n",
        "\n",
        "# Dictionary로 형 변환\n",
        "for i in range(0, len(data_raw)) :\n",
        "    part_list += ast.literal_eval(data_raw['participantidentities'][i])\n",
        "\n",
        "# Normalization 진행\n",
        "norm_data = pd.json_normalize(part_list)\n",
        "norm_data"
      ],
      "execution_count": null,
      "outputs": [
        {
          "output_type": "stream",
          "text": [
            "/usr/local/lib/python3.7/dist-packages/ipykernel_launcher.py:2: SettingWithCopyWarning: \n",
            "A value is trying to be set on a copy of a slice from a DataFrame\n",
            "\n",
            "See the caveats in the documentation: https://pandas.pydata.org/pandas-docs/stable/user_guide/indexing.html#returning-a-view-versus-a-copy\n",
            "  \n"
          ],
          "name": "stderr"
        }
      ]
    }
  ]
}